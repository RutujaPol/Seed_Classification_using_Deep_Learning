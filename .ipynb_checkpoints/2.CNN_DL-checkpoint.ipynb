{
 "cells": [
  {
   "cell_type": "markdown",
   "metadata": {},
   "source": [
    "### Importing libraries"
   ]
  },
  {
   "cell_type": "code",
   "execution_count": 1,
   "metadata": {},
   "outputs": [],
   "source": [
    "import pandas as pd\n",
    "import numpy as np\n",
    "import matplotlib as plt"
   ]
  },
  {
   "cell_type": "markdown",
   "metadata": {},
   "source": [
    "### Importing keras"
   ]
  },
  {
   "cell_type": "code",
   "execution_count": 2,
   "metadata": {},
   "outputs": [],
   "source": [
    "import keras"
   ]
  },
  {
   "cell_type": "code",
   "execution_count": 3,
   "metadata": {},
   "outputs": [],
   "source": [
    "#pip install keras==2.4.3"
   ]
  },
  {
   "cell_type": "code",
   "execution_count": 4,
   "metadata": {},
   "outputs": [],
   "source": [
    "#pip install TensorFlow==2.2"
   ]
  },
  {
   "cell_type": "markdown",
   "metadata": {},
   "source": [
    "### Importing keras models"
   ]
  },
  {
   "cell_type": "code",
   "execution_count": 5,
   "metadata": {},
   "outputs": [],
   "source": [
    "from keras.models import Sequential\n",
    "from keras.layers import Convolution2D\n",
    "from keras.layers import MaxPooling2D\n",
    "from keras.layers import Flatten\n",
    "from keras.layers import Dense\n",
    "from keras.layers import Dropout\n",
    "from keras.callbacks import ModelCheckpoint"
   ]
  },
  {
   "cell_type": "markdown",
   "metadata": {},
   "source": [
    "### Loading Image dataset"
   ]
  },
  {
   "cell_type": "code",
   "execution_count": 6,
   "metadata": {},
   "outputs": [],
   "source": [
    "from keras.preprocessing.image import ImageDataGenerator\n",
    "from PIL import Image"
   ]
  },
  {
   "cell_type": "code",
   "execution_count": 7,
   "metadata": {},
   "outputs": [],
   "source": [
    "train_datagen = ImageDataGenerator(rescale=1./255,\n",
    "                                  shear_range=0.2,\n",
    "                                  zoom_range=0.2,\n",
    "                                  horizontal_flip=True)"
   ]
  },
  {
   "cell_type": "code",
   "execution_count": 8,
   "metadata": {},
   "outputs": [],
   "source": [
    "test_datagen = ImageDataGenerator(rescale=1./255)"
   ]
  },
  {
   "cell_type": "code",
   "execution_count": 9,
   "metadata": {},
   "outputs": [
    {
     "name": "stdout",
     "output_type": "stream",
     "text": [
      "Found 375 images belonging to 3 classes.\n"
     ]
    }
   ],
   "source": [
    "training_set = train_datagen.flow_from_directory('train',\n",
    "                                                 target_size=(64, 64),\n",
    "                                                 batch_size= 32,\n",
    "                                                 class_mode='categorical')"
   ]
  },
  {
   "cell_type": "code",
   "execution_count": 10,
   "metadata": {},
   "outputs": [
    {
     "name": "stdout",
     "output_type": "stream",
     "text": [
      "Found 375 images belonging to 3 classes.\n"
     ]
    }
   ],
   "source": [
    "test_set = test_datagen.flow_from_directory('train',\n",
    "                                                        target_size = (64, 64),\n",
    "                                                        batch_size = 32,\n",
    "                                                        class_mode = 'categorical')"
   ]
  },
  {
   "cell_type": "markdown",
   "metadata": {},
   "source": [
    "### Building the CNN model"
   ]
  },
  {
   "cell_type": "code",
   "execution_count": 11,
   "metadata": {},
   "outputs": [
    {
     "name": "stdout",
     "output_type": "stream",
     "text": [
      "Model: \"sequential\"\n",
      "_________________________________________________________________\n",
      "Layer (type)                 Output Shape              Param #   \n",
      "=================================================================\n",
      "conv2d (Conv2D)              (None, 62, 62, 128)       3584      \n",
      "_________________________________________________________________\n",
      "conv2d_1 (Conv2D)            (None, 60, 60, 64)        73792     \n",
      "_________________________________________________________________\n",
      "conv2d_2 (Conv2D)            (None, 58, 58, 32)        18464     \n",
      "_________________________________________________________________\n",
      "max_pooling2d (MaxPooling2D) (None, 29, 29, 32)        0         \n",
      "_________________________________________________________________\n",
      "flatten (Flatten)            (None, 26912)             0         \n",
      "_________________________________________________________________\n",
      "dropout (Dropout)            (None, 26912)             0         \n",
      "_________________________________________________________________\n",
      "dense (Dense)                (None, 128)               3444864   \n",
      "_________________________________________________________________\n",
      "dense_1 (Dense)              (None, 256)               33024     \n",
      "_________________________________________________________________\n",
      "dense_2 (Dense)              (None, 3)                 771       \n",
      "_________________________________________________________________\n",
      "dropout_1 (Dropout)          (None, 3)                 0         \n",
      "=================================================================\n",
      "Total params: 3,574,499\n",
      "Trainable params: 3,574,499\n",
      "Non-trainable params: 0\n",
      "_________________________________________________________________\n"
     ]
    }
   ],
   "source": [
    "import tensorflow as tf\n",
    "#Creating the method for model\n",
    "\n",
    "classifier = Sequential()\n",
    "\n",
    "#Step 1- Convolution\n",
    "\n",
    "classifier.add(Convolution2D(128, (3, 3), input_shape = (64, 64, 3), activation = 'relu'))\n",
    "classifier.add(Convolution2D(64, (3, 3), activation = 'relu'))\n",
    "\n",
    "#adding another layer\n",
    "classifier.add(Convolution2D(32, (3, 3), activation = 'relu'))\n",
    "\n",
    "#Pooling it\n",
    "classifier.add(MaxPooling2D(pool_size = (2, 2)))\n",
    "\n",
    "#Step 3- Flattening\n",
    "classifier.add(Flatten())\n",
    "classifier.add(Dropout(0.1))\n",
    "\n",
    "#Step 4- Full connection\n",
    "classifier.add(Dense(units = 128, activation = 'relu'))\n",
    "classifier.add(Dense(units = 256, activation = 'relu'))\n",
    "\n",
    "#For the output step\n",
    "# classifier.add(Dropout(0.1))\n",
    "classifier.add(Dense(units = 3, activation = 'softmax'))\n",
    "classifier.add(Dropout(0.1))\n",
    "classifier.summary()"
   ]
  },
  {
   "cell_type": "code",
   "execution_count": 12,
   "metadata": {},
   "outputs": [],
   "source": [
    "classifier.compile(optimizer = 'adam',loss = 'binary_crossentropy', metrics = ['accuracy'])"
   ]
  },
  {
   "cell_type": "code",
   "execution_count": 14,
   "metadata": {},
   "outputs": [
    {
     "name": "stdout",
     "output_type": "stream",
     "text": [
      "Epoch 1/20\n",
      "12/12 [==============================] - 15s 1s/step - loss: 0.4949 - accuracy: 0.9040 - val_loss: 2.3356e-04 - val_accuracy: 1.0000\n",
      "Epoch 2/20\n",
      "12/12 [==============================] - 14s 1s/step - loss: 0.6585 - accuracy: 0.8720 - val_loss: 3.0686e-05 - val_accuracy: 1.0000\n",
      "Epoch 3/20\n",
      "12/12 [==============================] - 14s 1s/step - loss: 0.6309 - accuracy: 0.8800 - val_loss: 2.3368e-05 - val_accuracy: 1.0000\n",
      "Epoch 4/20\n",
      "12/12 [==============================] - 14s 1s/step - loss: 0.4663 - accuracy: 0.9093 - val_loss: 3.1313e-05 - val_accuracy: 1.0000\n",
      "Epoch 5/20\n",
      "12/12 [==============================] - 14s 1s/step - loss: 0.4800 - accuracy: 0.9067 - val_loss: 1.9858e-05 - val_accuracy: 1.0000\n",
      "Epoch 6/20\n",
      "12/12 [==============================] - 14s 1s/step - loss: 0.4800 - accuracy: 0.9067 - val_loss: 1.5519e-05 - val_accuracy: 1.0000\n",
      "Epoch 7/20\n",
      "12/12 [==============================] - 14s 1s/step - loss: 0.6033 - accuracy: 0.8827 - val_loss: 1.0897e-05 - val_accuracy: 1.0000\n",
      "Epoch 8/20\n",
      "12/12 [==============================] - 14s 1s/step - loss: 0.4525 - accuracy: 0.9120 - val_loss: 2.8777e-05 - val_accuracy: 1.0000\n",
      "Epoch 9/20\n",
      "12/12 [==============================] - 14s 1s/step - loss: 0.6856 - accuracy: 0.8667 - val_loss: 3.8436e-05 - val_accuracy: 1.0000\n",
      "Epoch 10/20\n",
      "12/12 [==============================] - 14s 1s/step - loss: 0.5211 - accuracy: 0.8987 - val_loss: 6.7581e-06 - val_accuracy: 1.0000\n",
      "Epoch 11/20\n",
      "12/12 [==============================] - 15s 1s/step - loss: 0.5622 - accuracy: 0.8907 - val_loss: 3.9181e-05 - val_accuracy: 1.0000\n",
      "Epoch 12/20\n",
      "12/12 [==============================] - 14s 1s/step - loss: 0.5759 - accuracy: 0.8880 - val_loss: 1.5224e-05 - val_accuracy: 1.0000\n",
      "Epoch 13/20\n",
      "12/12 [==============================] - 14s 1s/step - loss: 0.4662 - accuracy: 0.9093 - val_loss: 1.4628e-05 - val_accuracy: 1.0000\n",
      "Epoch 14/20\n",
      "12/12 [==============================] - 14s 1s/step - loss: 0.5211 - accuracy: 0.8987 - val_loss: 1.4792e-05 - val_accuracy: 1.0000\n",
      "Epoch 15/20\n",
      "12/12 [==============================] - 14s 1s/step - loss: 0.4799 - accuracy: 0.9067 - val_loss: 2.0143e-05 - val_accuracy: 1.0000\n",
      "Epoch 16/20\n",
      "12/12 [==============================] - 14s 1s/step - loss: 0.4525 - accuracy: 0.9120 - val_loss: 7.4959e-06 - val_accuracy: 1.0000\n",
      "Epoch 17/20\n",
      "12/12 [==============================] - 14s 1s/step - loss: 0.6033 - accuracy: 0.8827 - val_loss: 1.5234e-05 - val_accuracy: 1.0000\n",
      "Epoch 18/20\n",
      "12/12 [==============================] - 14s 1s/step - loss: 0.5211 - accuracy: 0.8987 - val_loss: 4.4006e-05 - val_accuracy: 1.0000\n",
      "Epoch 19/20\n",
      "12/12 [==============================] - 14s 1s/step - loss: 0.4251 - accuracy: 0.9173 - val_loss: 2.5062e-06 - val_accuracy: 1.0000\n",
      "Epoch 20/20\n",
      "12/12 [==============================] - 14s 1s/step - loss: 0.5896 - accuracy: 0.8880 - val_loss: 2.3863e-05 - val_accuracy: 1.0000\n"
     ]
    }
   ],
   "source": [
    "plot_compare = classifier.fit_generator(training_set,\n",
    "                    epochs = 20,\n",
    "                    validation_data=test_set,\n",
    "                    validation_steps=2)\n",
    "#.filterwarnings('ignore')"
   ]
  },
  {
   "cell_type": "markdown",
   "metadata": {},
   "source": [
    "### Plotting graph for loss between training and test set"
   ]
  },
  {
   "cell_type": "code",
   "execution_count": null,
   "metadata": {},
   "outputs": [],
   "source": [
    "import matplotlib.pyplot as pllt\n",
    "%matplotlib inline\n",
    "pllt.plot(plot_compare.history['loss'])\n",
    "pllt.plot(plot_compare.history['val_loss'])\n",
    "pllt.title('loss with number of epochs')\n",
    "pllt.ylabel('Loss')\n",
    "pllt.xlabel('Number of epoch')\n",
    "pllt.legend(['acc_loss', 'val_loss'])\n",
    "pllt.show()"
   ]
  },
  {
   "cell_type": "markdown",
   "metadata": {},
   "source": [
    "### Plotting graph for training accuracy and validation accuracy"
   ]
  },
  {
   "cell_type": "code",
   "execution_count": null,
   "metadata": {},
   "outputs": [],
   "source": [
    "import matplotlib.pyplot as pllt\n",
    "%matplotlib inline\n",
    "pllt.plot(plot_compare.history['accuracy'])\n",
    "pllt.plot(plot_compare.history['val_accuracy'])\n",
    "pllt.title('Accuracy with number of epochs')\n",
    "pllt.ylabel('accuracy')\n",
    "pllt.xlabel('Number of epoch')\n",
    "pllt.legend(['acc', 'val_acc'])\n",
    "pllt.show()"
   ]
  },
  {
   "cell_type": "code",
   "execution_count": null,
   "metadata": {},
   "outputs": [],
   "source": []
  }
 ],
 "metadata": {
  "kernelspec": {
   "display_name": "Python 3 (ipykernel)",
   "language": "python",
   "name": "python3"
  },
  "language_info": {
   "codemirror_mode": {
    "name": "ipython",
    "version": 3
   },
   "file_extension": ".py",
   "mimetype": "text/x-python",
   "name": "python",
   "nbconvert_exporter": "python",
   "pygments_lexer": "ipython3",
   "version": "3.9.13"
  }
 },
 "nbformat": 4,
 "nbformat_minor": 2
}
