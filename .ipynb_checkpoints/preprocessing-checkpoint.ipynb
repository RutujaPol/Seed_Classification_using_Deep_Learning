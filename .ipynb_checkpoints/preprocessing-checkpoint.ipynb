{
 "cells": [
  {
   "cell_type": "markdown",
   "metadata": {},
   "source": [
    "## Project Title :- Classification of Thermography Breast Images using Artificial Intelligence"
   ]
  },
  {
   "cell_type": "markdown",
   "metadata": {},
   "source": [
    "#### Import Libries "
   ]
  },
  {
   "cell_type": "code",
   "execution_count": 1,
   "metadata": {},
   "outputs": [],
   "source": [
    "import numpy as np\n",
    "import scipy.io as scio    \n",
    "import os,re\n",
    "from scipy import ndimage\n",
    "from scipy import misc\n",
    "from matplotlib import pyplot as plt\n",
    "from sklearn.metrics import confusion_matrix\n",
    "import itertools\n",
    "from PIL import Image\n",
    "import imageio"
   ]
  },
  {
   "cell_type": "code",
   "execution_count": 2,
   "metadata": {},
   "outputs": [
    {
     "data": {
      "text/plain": [
       "['C:\\\\Users\\\\admin\\\\Desktop\\\\Python Project\\\\ph2',\n",
       " 'C:\\\\ProgramData\\\\Anaconda3\\\\python37.zip',\n",
       " 'C:\\\\ProgramData\\\\Anaconda3\\\\DLLs',\n",
       " 'C:\\\\ProgramData\\\\Anaconda3\\\\lib',\n",
       " 'C:\\\\ProgramData\\\\Anaconda3',\n",
       " '',\n",
       " 'C:\\\\ProgramData\\\\Anaconda3\\\\lib\\\\site-packages',\n",
       " 'C:\\\\ProgramData\\\\Anaconda3\\\\lib\\\\site-packages\\\\win32',\n",
       " 'C:\\\\ProgramData\\\\Anaconda3\\\\lib\\\\site-packages\\\\win32\\\\lib',\n",
       " 'C:\\\\ProgramData\\\\Anaconda3\\\\lib\\\\site-packages\\\\Pythonwin',\n",
       " 'C:\\\\ProgramData\\\\Anaconda3\\\\lib\\\\site-packages\\\\IPython\\\\extensions',\n",
       " 'C:\\\\Users\\\\admin\\\\.ipython']"
      ]
     },
     "execution_count": 2,
     "metadata": {},
     "output_type": "execute_result"
    }
   ],
   "source": [
    "import cv2\n",
    "os.sys.path"
   ]
  },
  {
   "cell_type": "code",
   "execution_count": 3,
   "metadata": {},
   "outputs": [],
   "source": [
    "def atoi(text) : \n",
    "    return int(text) if text.isdigit() else text"
   ]
  },
  {
   "cell_type": "code",
   "execution_count": 4,
   "metadata": {},
   "outputs": [],
   "source": [
    "def natural_keys(text) :\n",
    "    return [atoi(c) for c in re.split('(\\d+)', text)]"
   ]
  },
  {
   "cell_type": "code",
   "execution_count": 5,
   "metadata": {},
   "outputs": [],
   "source": [
    "def resize_images(path,new_path):\n",
    "    filenames = []\n",
    "    for root, dirnames, filenames in os.walk(path):\n",
    "        filenames.sort(key = natural_keys)\n",
    "        rootpath = root\n",
    "    #print(filenames)\n",
    "    print(len(filenames))\n",
    "    for item in filenames:\n",
    "        if os.path.isfile(path+item):\n",
    "            im = Image.open(path+item)\n",
    "            f, e = os.path.splitext(item)\n",
    "            imResize = im.resize((128,128), Image.ANTIALIAS)\n",
    "            #print(new_path +f+ '_resized.jpg')\n",
    "            imResize.save(new_path+f+'_resized.jpg', 'JPEG', quality=90)"
   ]
  },
  {
   "cell_type": "code",
   "execution_count": 14,
   "metadata": {},
   "outputs": [
    {
     "name": "stdout",
     "output_type": "stream",
     "text": [
      "30\n"
     ]
    }
   ],
   "source": [
    "resize_images(\"/Users/admin/Desktop/Python Project/ph2/DMR/healthy/\",\n",
    "             \"/Users/admin/Desktop/Python Project/ph2/DMR/healthy_resized/\")"
   ]
  },
  {
   "cell_type": "code",
   "execution_count": 15,
   "metadata": {},
   "outputs": [
    {
     "name": "stdout",
     "output_type": "stream",
     "text": [
      "21\n"
     ]
    }
   ],
   "source": [
    "resize_images(\"/Users/admin/Desktop/Python Project/ph2/DMR/sick/\",\n",
    "            \"/Users/admin/Desktop/Python Project/ph2/DMR/sick_resized/\")"
   ]
  },
  {
   "cell_type": "code",
   "execution_count": 16,
   "metadata": {},
   "outputs": [],
   "source": [
    "#resize_images(\"/Users/admin/Desktop/Python Project/ph2/GT2/\",\n",
    " #            \"/Users/admin/Desktop/Python Project/ph2/GT2_resized/\")"
   ]
  },
  {
   "cell_type": "code",
   "execution_count": 17,
   "metadata": {},
   "outputs": [],
   "source": [
    "#resize_images(\"/Users/admin/Desktop/Python Project/ph2/masks/\",\n",
    " #            \"/Users/admin/Desktop/Python Project/ph2/masks_resized/\")"
   ]
  },
  {
   "cell_type": "code",
   "execution_count": 18,
   "metadata": {},
   "outputs": [],
   "source": [
    "def get_filenames(path):\n",
    "    filenames = []\n",
    "    for (root, dirnames, filenames) in os.walk(path):\n",
    "        filenames.sort(key = natural_keys)\n",
    "        rootpath = root\n",
    "    print(len(filenames))\n",
    "    return filenames"
   ]
  },
  {
   "cell_type": "code",
   "execution_count": 19,
   "metadata": {},
   "outputs": [],
   "source": [
    "root_path = \"/Users/admin/Desktop/Python Project/ph2/\""
   ]
  },
  {
   "cell_type": "code",
   "execution_count": 20,
   "metadata": {},
   "outputs": [
    {
     "name": "stdout",
     "output_type": "stream",
     "text": [
      "30\n",
      "21\n"
     ]
    }
   ],
   "source": [
    "filenames_healthy = get_filenames(root_path+\"DMR/healthy_resized/\")\n",
    "filenames_sick = get_filenames(root_path+\"DMR/sick_resized/\")\n",
    "#filenames_common = get_filenames(root_path+\"GT2_resized/\")"
   ]
  },
  {
   "cell_type": "code",
   "execution_count": 21,
   "metadata": {},
   "outputs": [],
   "source": [
    "#filenames_gt = get_filenames(root_path+\"masks_resized/\")"
   ]
  },
  {
   "cell_type": "code",
   "execution_count": 22,
   "metadata": {},
   "outputs": [],
   "source": [
    "#filenames_total = filenames_melanoma+filenames_atypical+filenames_common\n",
    "filenames_total = filenames_healthy+filenames_sick\n",
    "filenames_total.sort(key = natural_keys)"
   ]
  },
  {
   "cell_type": "code",
   "execution_count": 23,
   "metadata": {},
   "outputs": [
    {
     "name": "stdout",
     "output_type": "stream",
     "text": [
      "['T0001.1.1.S.2012-10-08.00_resized.jpg', 'T0002.1.1.S.2012-10-08.00_resized.jpg', 'T0004.1.1.S.2012-10-17.00_resized.jpg', 'T0005.1.1.S.2012-10-17.00_resized.jpg', 'T0006.1.1.S.2012-10-17.00_resized.jpg', 'T0007.1.1.S.2012-10-24.00_resized.jpg', 'T0008.1.1.S.2012-10-24.00_resized.jpg', 'T0010.1.1.S.2012-10-24.00_resized.jpg', 'T0011.1.1.S.2012-10-24.00_resized.jpg', 'T0012.1.1.S.2012-10-26.00_resized.jpg', 'T0015.1.1.S.2012-10-26.00_resized.jpg', 'T0016.1.1.S.2012-10-31.00_resized.jpg', 'T0017.1.1.S.2012-10-26.00_resized.jpg', 'T0022.1.1.S.2012-10-31.00_resized.jpg', 'T0023.1.1.S.2012-10-31.00_resized.jpg', 'T0026.1.1.S.2012-10-29.00_resized.jpg', 'T0028.1.1.S.2012-10-29.00_resized.jpg', 'T0032.1.1.S.2012-10-29.00_resized.jpg', 'T0034.1.1.S.2012-11-29.00_resized.jpg', 'T0035.1.1.S.2012-10-29.00_resized.jpg', 'T0036.1.1.S.2012-09-29.00_resized.jpg', 'T0037.1.1.S.2012-10-29.00_resized.jpg', 'T0043.1.1.S.2012-11-14.00_resized.jpg', 'T0044.1.1.S.2012-11-14.00_resized.jpg', 'T0049.1.1.S.2012-11-07.00_resized.jpg', 'T0051.1.1.S.2012-11-07.00_resized.jpg', 'T0061.1.1.S.2012-11-19.00_resized.jpg', 'T0064.1.1.S.2012-11-21.00_resized.jpg', 'T0067.1.1.S.2012-11-21.00_resized.jpg', 'T0068.1.1.S.2012-11-21.00_resized.jpg', 'T0138.2.1.S.2013-09-06.00_resized.jpg', 'T0179.1.1.S.2013-08-16.00_resized.jpg', 'T0180.1.1.S.2013-08-16.00_resized.jpg', 'T0181.1.1.S.2013-08-16.00_resized.jpg', 'T0192.1.1.S.2013-09-06.00_resized.jpg', 'T0198.2.1.S.2014-11-11.00_resized.jpg', 'T0202.1.1.S.2013-10-11.00_resized.jpg', 'T0203.1.1.S.2013-10-11.00_resized.jpg', 'T0204.1.1.S.2013-10-11.00_resized.jpg', 'T0209.1.1.S.2013-11-08.00_resized.jpg', 'T0210.1.1.S.2013-11-08.00_resized.jpg', 'T0213.1.1.S.2013-11-08.00_resized.jpg', 'T0240.1.1.S.2014-07-18.00_resized.jpg', 'T0241.1.1.S.2014-07-18.00_resized.jpg', 'T0242.1.1.S.2014-07-25.00_resized.jpg', 'T0245.1.1.S.2014-08-22.00_resized.jpg', 'T0246.1.1.S.2014-08-22.00_resized.jpg', 'T0256.1.1.S.2014-10-10.00_resized.jpg', 'T0257.1.1.S.2014-10-17.00_resized.jpg', 'T0259.1.1.S.2014-11-07.00_resized.jpg', 'T0260.1.1.S.2014-11-11.00_resized.jpg']\n",
      "51\n"
     ]
    }
   ],
   "source": [
    "print(filenames_total)\n",
    "print(len(filenames_total))"
   ]
  },
  {
   "cell_type": "code",
   "execution_count": 24,
   "metadata": {},
   "outputs": [],
   "source": [
    "#print(filenames_gt)"
   ]
  },
  {
   "cell_type": "code",
   "execution_count": 25,
   "metadata": {},
   "outputs": [],
   "source": [
    "total_images = []\n",
    "for file in filenames_total:\n",
    "    if os.path.exists(root_path+\"DMR/healthy_resized/\"+file):\n",
    "        total_images.append(imageio.imread(root_path+\"DMR/healthy_resized/\"+file))\n",
    "    elif os.path.exists(root_path+\"DMR/sick_resized/\"+file):\n",
    "        total_images.append(imageio.imread(root_path+\"DMR/sick_resized/\"+file))\n",
    "#     elif os.path.exists(root_path+\"common_resized/\"+file):\n",
    "#         total_images.append(imageio.imread(root_path+\"common_resized/\"+file))"
   ]
  },
  {
   "cell_type": "code",
   "execution_count": 26,
   "metadata": {},
   "outputs": [
    {
     "data": {
      "text/plain": [
       "51"
      ]
     },
     "execution_count": 26,
     "metadata": {},
     "output_type": "execute_result"
    }
   ],
   "source": [
    "len(total_images)"
   ]
  },
  {
   "cell_type": "code",
   "execution_count": 27,
   "metadata": {},
   "outputs": [],
   "source": [
    "total_images = np.array(total_images)"
   ]
  },
  {
   "cell_type": "code",
   "execution_count": 28,
   "metadata": {},
   "outputs": [],
   "source": [
    "np.save('total_images.npy',total_images)"
   ]
  },
  {
   "cell_type": "code",
   "execution_count": 29,
   "metadata": {},
   "outputs": [],
   "source": [
    "#gt_images = []\n",
    "#for file in filenames_gt:\n",
    " #   gt_images.append(imageio.imread(root_path+\"masks_resized/\"+file))"
   ]
  },
  {
   "cell_type": "code",
   "execution_count": 30,
   "metadata": {},
   "outputs": [],
   "source": [
    "#gt_images = np.array(gt_images)\n"
   ]
  },
  {
   "cell_type": "code",
   "execution_count": 31,
   "metadata": {},
   "outputs": [
    {
     "data": {
      "image/png": "[encoded data removed]",
      "text/plain": [
       "<Figure size 432x288 with 1 Axes>"
      ]
     },
     "metadata": {
      "needs_background": "light"
     },
     "output_type": "display_data"
    }
   ],
   "source": [
    "plt.imshow(total_images[1], cmap = \"gray\")\n",
    "plt.show()"
   ]
  },
  {
   "cell_type": "code",
   "execution_count": 32,
   "metadata": {},
   "outputs": [
    {
     "data": {
      "text/plain": [
       "array([  3,   4,   5,   6,   7,   8,   9,  10,  11,  12,  13,  14,  15,\n",
       "        16,  17,  18,  19,  20,  21,  22,  23,  24,  25,  26,  27,  28,\n",
       "        29,  30,  31,  32,  33,  34,  35,  36,  37,  38,  39,  40,  41,\n",
       "        42,  43,  44,  45,  46,  47,  48,  49,  50,  51,  52,  53,  54,\n",
       "        55,  56,  57,  58,  59,  60,  61,  62,  63,  64,  65,  66,  67,\n",
       "        68,  69,  70,  71,  72,  73,  74,  75,  76,  77,  78,  79,  80,\n",
       "        81,  82,  83,  84,  85,  86,  87,  88,  89,  90,  91,  92,  93,\n",
       "        94,  95,  96,  97,  98,  99, 100, 101, 102, 103, 104, 105, 106,\n",
       "       107, 108, 109, 110, 111, 112, 113, 114, 115, 116, 117, 118, 119,\n",
       "       120, 121, 122, 123, 124, 125, 126, 127, 128, 129, 130, 131, 132,\n",
       "       133, 134, 135, 136, 137, 138, 139, 140, 141, 142, 143, 144, 145,\n",
       "       146, 147, 148, 149, 150, 151, 152, 153, 154, 155, 156, 157, 158,\n",
       "       159, 160, 161, 162, 163, 164, 165, 166, 167, 168, 169, 170, 171,\n",
       "       172, 173, 174, 175, 176, 177, 178, 179, 180, 181, 182, 183, 184,\n",
       "       185, 186, 187, 188, 189, 190, 191, 192, 193, 194, 195, 196, 197,\n",
       "       198, 199, 200, 201, 202, 203, 204, 205, 206, 207, 208, 209, 210,\n",
       "       211, 212, 213, 214, 215, 216, 217, 218, 219, 220, 221, 222, 223,\n",
       "       224, 225, 226, 227, 228, 229, 230, 231, 232, 233, 234, 235, 236,\n",
       "       237, 238, 239, 240, 241, 242, 243, 244, 245, 246, 247, 248, 249,\n",
       "       250, 251, 252, 253, 254], dtype=uint8)"
      ]
     },
     "execution_count": 32,
     "metadata": {},
     "output_type": "execute_result"
    }
   ],
   "source": [
    "np.unique(total_images[0])"
   ]
  },
  {
   "cell_type": "code",
   "execution_count": 50,
   "metadata": {},
   "outputs": [],
   "source": [
    "gt_labels_binary = []"
   ]
  },
  {
   "cell_type": "code",
   "execution_count": 51,
   "metadata": {},
   "outputs": [
    {
     "ename": "NameError",
     "evalue": "name 'gt_images' is not defined",
     "output_type": "error",
     "traceback": [
      "\u001b[1;31m---------------------------------------------------------------------------\u001b[0m",
      "\u001b[1;31mNameError\u001b[0m                                 Traceback (most recent call last)",
      "\u001b[1;32m<ipython-input-51-a70f266f0378>\u001b[0m in \u001b[0;36m<module>\u001b[1;34m\u001b[0m\n\u001b[1;32m----> 1\u001b[1;33m \u001b[1;32mfor\u001b[0m \u001b[0mgt_image\u001b[0m \u001b[1;32min\u001b[0m \u001b[0mgt_images\u001b[0m\u001b[1;33m:\u001b[0m\u001b[1;33m\u001b[0m\u001b[1;33m\u001b[0m\u001b[0m\n\u001b[0m\u001b[0;32m      2\u001b[0m     \u001b[0mret\u001b[0m\u001b[1;33m,\u001b[0m\u001b[0mimage\u001b[0m \u001b[1;33m=\u001b[0m \u001b[0mcv2\u001b[0m\u001b[1;33m.\u001b[0m\u001b[0mthreshold\u001b[0m\u001b[1;33m(\u001b[0m\u001b[0mgt_image\u001b[0m\u001b[1;33m,\u001b[0m\u001b[1;36m127\u001b[0m\u001b[1;33m,\u001b[0m\u001b[1;36m255\u001b[0m\u001b[1;33m,\u001b[0m\u001b[0mcv2\u001b[0m\u001b[1;33m.\u001b[0m\u001b[0mTHRESH_BINARY\u001b[0m\u001b[1;33m)\u001b[0m\u001b[1;33m\u001b[0m\u001b[1;33m\u001b[0m\u001b[0m\n\u001b[0;32m      3\u001b[0m     \u001b[0mgt_labels_binary\u001b[0m\u001b[1;33m.\u001b[0m\u001b[0mappend\u001b[0m\u001b[1;33m(\u001b[0m\u001b[0mimage\u001b[0m\u001b[1;33m)\u001b[0m\u001b[1;33m\u001b[0m\u001b[1;33m\u001b[0m\u001b[0m\n",
      "\u001b[1;31mNameError\u001b[0m: name 'gt_images' is not defined"
     ]
    }
   ],
   "source": [
    "for gt_image in gt_images:\n",
    "    ret,image = cv2.threshold(gt_image,127,255,cv2.THRESH_BINARY)\n",
    "    gt_labels_binary.append(image)"
   ]
  },
  {
   "cell_type": "code",
   "execution_count": 27,
   "metadata": {},
   "outputs": [],
   "source": [
    "gt_labels_binary=np.array(gt_labels_binary,dtype=float)"
   ]
  },
  {
   "cell_type": "code",
   "execution_count": 28,
   "metadata": {},
   "outputs": [
    {
     "data": {
      "text/plain": [
       "array([  0., 255.])"
      ]
     },
     "execution_count": 28,
     "metadata": {},
     "output_type": "execute_result"
    }
   ],
   "source": [
    "np.unique(gt_labels_binary[0])"
   ]
  },
  {
   "cell_type": "code",
   "execution_count": 29,
   "metadata": {},
   "outputs": [],
   "source": [
    "gt_labels_binary/=255"
   ]
  },
  {
   "cell_type": "code",
   "execution_count": 30,
   "metadata": {},
   "outputs": [
    {
     "data": {
      "text/plain": [
       "array([0., 1.])"
      ]
     },
     "execution_count": 30,
     "metadata": {},
     "output_type": "execute_result"
    }
   ],
   "source": [
    "np.unique(gt_labels_binary[0])"
   ]
  },
  {
   "cell_type": "code",
   "execution_count": 31,
   "metadata": {},
   "outputs": [],
   "source": [
    "np.save('gt_labels_binary.npy',gt_labels_binary)"
   ]
  },
  {
   "cell_type": "code",
   "execution_count": null,
   "metadata": {},
   "outputs": [],
   "source": []
  }
 ],
 "metadata": {
  "kernelspec": {
   "display_name": "Python 3 (ipykernel)",
   "language": "python",
   "name": "python3"
  },
  "language_info": {
   "codemirror_mode": {
    "name": "ipython",
    "version": 3
   },
   "file_extension": ".py",
   "mimetype": "text/x-python",
   "name": "python",
   "nbconvert_exporter": "python",
   "pygments_lexer": "ipython3",
   "version": "3.7.11"
  }
 },
 "nbformat": 4,
 "nbformat_minor": 2
}
